{
 "cells": [
  {
   "cell_type": "code",
   "execution_count": 7,
   "id": "703ecf97",
   "metadata": {},
   "outputs": [],
   "source": [
    "import pandas as pd\n",
    "import mysql.connector\n",
    "from mysql.connector import Error\n",
    "from concurrent.futures import ThreadPoolExecutor\n",
    "import os"
   ]
  },
  {
   "cell_type": "code",
   "execution_count": 2,
   "id": "d445f17c",
   "metadata": {},
   "outputs": [],
   "source": [
    "def create_db_connection(host_name, user_name, user_password, db_name):\n",
    "\n",
    "    try:\n",
    "        connection = mysql.connector.connect(\n",
    "            host=host_name,\n",
    "            user=user_name,\n",
    "            passwd=user_password,\n",
    "            database=db_name\n",
    "        )\n",
    "        return connection\n",
    "    except Error as err:\n",
    "        print(f\"Error: '{err}'\")\n",
    "        return None"
   ]
  },
  {
   "cell_type": "code",
   "execution_count": 3,
   "id": "f83995f0",
   "metadata": {},
   "outputs": [],
   "source": [
    "def execute_batch_insert_with_offset(host, username, password, database, query, data, offset, batch_size):\n",
    "    \"\"\"\n",
    "    \"\"\"\n",
    "    connection = create_db_connection(host, username, password, database)\n",
    "    if connection:\n",
    "        cursor = connection.cursor()\n",
    "        try:\n",
    "            # Calculate the actual batch based on offset and batch_size\n",
    "            batch_data = data[offset:offset + batch_size]\n",
    "            cursor.executemany(query, batch_data)\n",
    "            connection.commit()\n",
    "            print(f\"Batch insert successful for offset {offset}\")\n",
    "        except Error as err:\n",
    "            print(f\"Error: '{err}'\")\n",
    "        finally:\n",
    "            cursor.close()\n",
    "            connection.close()"
   ]
  },
  {
   "cell_type": "code",
   "execution_count": 4,
   "id": "3b6e020e",
   "metadata": {},
   "outputs": [],
   "source": [
    "# Database Configuration from env variables\n",
    "host = os.environ.get('DB_HOST')                    # Database host\n",
    "username = os.environ.get('DB_USER')                # Database user\n",
    "password = os.environ.get('DB_PASSWORD')            # Database password\n",
    "database = 'Airline'   "
   ]
  },
  {
   "cell_type": "code",
   "execution_count": 5,
   "id": "ba99b080",
   "metadata": {},
   "outputs": [
    {
     "data": {
      "text/plain": [
       "27"
      ]
     },
     "execution_count": 5,
     "metadata": {},
     "output_type": "execute_result"
    }
   ],
   "source": [
    "cols = [\"ActualElapsedTime\",\"AirTime\",\"ArrDelay\",\"ArrTime\",\"CRSArrTime\",\"CRSDepTime\",\"CRSElapsedTime\",\"Cancelled\",\"CarrierDelay\",\"DayOfWeek\",\"DayofMonth\",\"DepDelay\",\"DepTime\",\"Dest\",\"Distance\",\"Diverted\",\"FlightNum\",\"LateAircraftDelay\",\"Month\",\"NASDelay\",\"Origin\",\"TailNum\",\"TaxiIn\",\"TaxiOut\",\"UniqueCarrier\",\"WeatherDelay\",\"Year\"]\n",
    "len(cols)"
   ]
  },
  {
   "cell_type": "code",
   "execution_count": 6,
   "id": "aeddb589",
   "metadata": {},
   "outputs": [],
   "source": [
    "# File Path Configuration\n",
    "file_path = r'airline.csv'"
   ]
  },
  {
   "cell_type": "code",
   "execution_count": 7,
   "id": "8c7274de",
   "metadata": {},
   "outputs": [],
   "source": [
    "dt = pd.DataFrame()\n",
    "\n",
    "# Read data from CSV file\n",
    "chunks = pd.read_csv(file_path, chunksize=5000, encoding='latin1', usecols=cols)\n",
    "\n",
    "\n"
   ]
  },
  {
   "cell_type": "code",
   "execution_count": 8,
   "id": "b2c0695b",
   "metadata": {},
   "outputs": [],
   "source": [
    "for idx, chunk in enumerate(chunks):\n",
    "    if idx <= 1000:\n",
    "        # Remove rows where any column has null value\n",
    "        chunk = chunk.dropna()\n",
    "\n",
    "        # Remove rows where any column contains 'NA' as a string\n",
    "        chunk = chunk[~chunk.applymap(lambda x: x == 'NA').any(axis=1)]\n",
    "\n",
    "        # Check if chunk still has rows\n",
    "        if not chunk.empty:\n",
    "            # If chunk is not empty, concatenate it with dt\n",
    "            dt = pd.concat([dt, chunk], ignore_index=True)\n",
    "        else:\n",
    "            # If chunk is empty, continue to the next chunk\n",
    "            # throw an error if there are no more chunks to process\n",
    "            if idx == 0:\n",
    "                raise ValueError('Dataframe contains no rows!')\n",
    "            else:\n",
    "                continue\n",
    "    else:\n",
    "        break\n"
   ]
  },
  {
   "cell_type": "code",
   "execution_count": 11,
   "id": "3bd1993f",
   "metadata": {},
   "outputs": [
    {
     "data": {
      "text/plain": [
       "(1358066, 27)"
      ]
     },
     "execution_count": 11,
     "metadata": {},
     "output_type": "execute_result"
    }
   ],
   "source": [
    "dt.shape"
   ]
  },
  {
   "cell_type": "code",
   "execution_count": 13,
   "id": "b1b264e7",
   "metadata": {},
   "outputs": [
    {
     "data": {
      "text/plain": [
       "<bound method NDFrame.head of          ActualElapsedTime  AirTime  ArrDelay  ArrTime  CRSArrTime  \\\n",
       "0                     45.0     29.0       2.0   1120.0        1118   \n",
       "1                    100.0     81.0      -2.0   1220.0        1222   \n",
       "2                     33.0     22.0      -3.0   1916.0        1919   \n",
       "3                     57.0     31.0      -9.0   1659.0        1708   \n",
       "4                     95.0     74.0     136.0   2343.0        2127   \n",
       "...                    ...      ...       ...      ...         ...   \n",
       "1358061              150.0    135.0     228.0    115.0        2127   \n",
       "1358062               71.0     55.0      -9.0   1734.0        1743   \n",
       "1358063               65.0     52.0      -5.0   1035.0        1040   \n",
       "1358064               96.0     77.0     -11.0   1419.0        1430   \n",
       "1358065              198.0    166.0      13.0   1419.0        1406   \n",
       "\n",
       "         CRSDepTime  CRSElapsedTime  Cancelled  CarrierDelay  DayOfWeek  ...  \\\n",
       "0              1030            48.0          0           0.0          1  ...   \n",
       "1              1045            97.0          0           0.0          1  ...   \n",
       "2              1845            34.0          0           0.0          2  ...   \n",
       "3              1612            56.0          0           0.0          5  ...   \n",
       "4              2035           112.0          0         136.0          7  ...   \n",
       "...             ...             ...        ...           ...        ...  ...   \n",
       "1358061        1858           149.0          0           0.0          3  ...   \n",
       "1358062        1630            73.0          0           0.0          4  ...   \n",
       "1358063         930            70.0          0           0.0          2  ...   \n",
       "1358064        1250           100.0          0           0.0          6  ...   \n",
       "1358065        1109           177.0          0           0.0          3  ...   \n",
       "\n",
       "         LateAircraftDelay  Month  NASDelay Origin  TailNum  TaxiIn  TaxiOut  \\\n",
       "0                      0.0      6       0.0    CVG   N785CA     3.0     13.0   \n",
       "1                      0.0     11       0.0    GNV   N632AS    10.0      9.0   \n",
       "2                      0.0     11       0.0    OGG   N477HA     5.0      6.0   \n",
       "3                      0.0      2       0.0    TYS   N846AS     9.0     17.0   \n",
       "4                      0.0      7       0.0    ATL   N854AS     3.0     18.0   \n",
       "...                    ...    ...       ...    ...      ...     ...      ...   \n",
       "1358061              227.0      2       1.0    ATL   N826AS     7.0      8.0   \n",
       "1358062                0.0      2       0.0    MSY   N14662     5.0     11.0   \n",
       "1358063                0.0      5       0.0    SJC   N689SW     5.0      8.0   \n",
       "1358064                0.0     11       0.0    IAD   N333UE     3.0     16.0   \n",
       "1358065                0.0      6       0.0    FLL   N351NB     8.0     24.0   \n",
       "\n",
       "         UniqueCarrier  WeatherDelay  Year  \n",
       "0                   OH           0.0  2006  \n",
       "1                   EV           0.0  2006  \n",
       "2                   HA           0.0  2007  \n",
       "3                   EV           0.0  2005  \n",
       "4                   EV           0.0  2006  \n",
       "...                ...           ...   ...  \n",
       "1358061             EV           0.0  2007  \n",
       "1358062             CO           0.0  2006  \n",
       "1358063             WN           0.0  2005  \n",
       "1358064             DH           0.0  2003  \n",
       "1358065             NW           0.0  2006  \n",
       "\n",
       "[1358066 rows x 27 columns]>"
      ]
     },
     "execution_count": 13,
     "metadata": {},
     "output_type": "execute_result"
    }
   ],
   "source": [
    "dt.head"
   ]
  },
  {
   "cell_type": "code",
   "execution_count": 16,
   "id": "7b9836ad",
   "metadata": {},
   "outputs": [],
   "source": [
    "dt.to_csv('cleanAirline.csv', index=False)"
   ]
  }
 ],
 "metadata": {
  "kernelspec": {
   "display_name": "Python 3 (ipykernel)",
   "language": "python",
   "name": "python3"
  },
  "language_info": {
   "codemirror_mode": {
    "name": "ipython",
    "version": 3
   },
   "file_extension": ".py",
   "mimetype": "text/x-python",
   "name": "python",
   "nbconvert_exporter": "python",
   "pygments_lexer": "ipython3",
   "version": "3.10.7"
  }
 },
 "nbformat": 4,
 "nbformat_minor": 5
}
